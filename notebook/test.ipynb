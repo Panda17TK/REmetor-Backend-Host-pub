{
 "cells": [
  {
   "cell_type": "code",
   "execution_count": 1,
   "metadata": {},
   "outputs": [],
   "source": [
    "\n",
    "from azure.cosmos import CosmosClient\n",
    "from dotenv import load_dotenv\n",
    "import os"
   ]
  },
  {
   "cell_type": "code",
   "execution_count": 2,
   "metadata": {},
   "outputs": [
    {
     "ename": "IndexError",
     "evalue": "list index out of range",
     "output_type": "error",
     "traceback": [
      "\u001b[1;31m---------------------------------------------------------------------------\u001b[0m",
      "\u001b[1;31mIndexError\u001b[0m                                Traceback (most recent call last)",
      "Cell \u001b[1;32mIn[2], line 25\u001b[0m\n\u001b[0;32m     22\u001b[0m emotional_value_dict \u001b[39m=\u001b[39m {}\n\u001b[0;32m     24\u001b[0m \u001b[39m# エモーションの数値ごとにカウントを増やします\u001b[39;00m\n\u001b[1;32m---> 25\u001b[0m \u001b[39mfor\u001b[39;00m item \u001b[39min\u001b[39;00m items[\u001b[39m0\u001b[39;49m][\u001b[39m\"\u001b[39m\u001b[39mActionsList\u001b[39m\u001b[39m\"\u001b[39m]:\n\u001b[0;32m     26\u001b[0m     \u001b[39mif\u001b[39;00m \u001b[39mstr\u001b[39m(item[\u001b[39m\"\u001b[39m\u001b[39mEmotion\u001b[39m\u001b[39m\"\u001b[39m]) \u001b[39min\u001b[39;00m \u001b[39mlist\u001b[39m(emotional_value_dict\u001b[39m.\u001b[39mkeys()):\n\u001b[0;32m     27\u001b[0m         emotional_value_dict[item[\u001b[39m\"\u001b[39m\u001b[39mEmotion\u001b[39m\u001b[39m\"\u001b[39m]] \u001b[39m+\u001b[39m\u001b[39m=\u001b[39m \u001b[39m1\u001b[39m\n",
      "\u001b[1;31mIndexError\u001b[0m: list index out of range"
     ]
    }
   ],
   "source": [
    "# Cosmos DB の接続情報を指定します\n",
    "endpoint = os.getenv(\"ENDPOINT\")\n",
    "key = os.getenv(\"KEY\")\n",
    "database_name = \"REmetor-Backend\"\n",
    "container_name = \"Rooms\"\n",
    "\n",
    "# Cosmos DB に接続します\n",
    "client = CosmosClient(endpoint, key)\n",
    "\n",
    "# Cosmos DBのコンテナを取得します\n",
    "container = client.get_database_client(database_name).get_container_client(container_name)\n",
    "\n",
    "\n",
    "# GETリクエストからroom_idを取得します\n",
    "room_id = \"da36e33c-ec12-4f7b-9e76-a6006e3f23ef\"\n",
    "\n",
    "# Cosmos DBから指定されたroom_idのActionsListを取得します\n",
    "query = {'query': f'SELECT c.ActionsList FROM c WHERE c.id = \"{room_id}\"'}\n",
    "items = list(container.query_items(query, enable_cross_partition_query=True))\n",
    "\n",
    "# エモーションの数値ごとのカウントを格納する辞書を作成します\n",
    "emotional_value_dict = {}\n",
    "\n",
    "# エモーションの数値ごとにカウントを増やします\n",
    "for item in items[0][\"ActionsList\"]:\n",
    "    if str(item[\"Emotion\"]) in list(emotional_value_dict.keys()):\n",
    "        emotional_value_dict[item[\"Emotion\"]] += 1\n",
    "    else:\n",
    "        emotional_value_dict[item[\"Emotion\"]] = 1\n",
    "\n",
    "items_number = sum(emotional_value_dict.values())  # アイテムの総数\n",
    "\n",
    "# エモーションの割合を格納する辞書を作成します\n",
    "emotional_rate_dict = {}\n",
    "\n",
    "# エモーションの割合を計算します\n",
    "for key in list(emotional_value_dict.keys()):\n",
    "    emotional_rate_dict[key] = emotional_value_dict[key] / items_number\n",
    "\n",
    "emotional_value_result_list = []\n",
    "\n",
    "# エモーションの数値ごとのカウントを辞書からリストに変換します\n",
    "for key in list(emotional_value_dict.keys()):\n",
    "    emotional_value_result_dict = {}\n",
    "    emotional_value_result_dict[\"name\"] = key\n",
    "    emotional_value_result_dict[\"value\"] = emotional_value_dict[key]\n",
    "    emotional_value_result_list.append(emotional_value_result_dict)\n",
    "\n",
    "emotional_rate_result_list = []\n",
    "\n",
    "# エモーションの割合を辞書からリストに変換します\n",
    "for key in list(emotional_rate_dict.keys()):\n",
    "    emotional_rate_result_dict = {}\n",
    "    emotional_rate_result_dict[\"name\"] = key\n",
    "    emotional_rate_result_dict[\"value\"] = emotional_rate_dict[key] * 100\n",
    "    emotional_rate_result_list.append(emotional_rate_result_dict)\n",
    "\n",
    "result_dict = {\"value\": emotional_value_result_list, \"rate\": emotional_rate_result_list}\n"
   ]
  },
  {
   "cell_type": "code",
   "execution_count": null,
   "metadata": {},
   "outputs": [],
   "source": [
    "time_summary_dict = {}"
   ]
  },
  {
   "cell_type": "code",
   "execution_count": null,
   "metadata": {},
   "outputs": [
    {
     "ename": "NameError",
     "evalue": "name 'emotional_value_result_list' is not defined",
     "output_type": "error",
     "traceback": [
      "\u001b[1;31m---------------------------------------------------------------------------\u001b[0m",
      "\u001b[1;31mNameError\u001b[0m                                 Traceback (most recent call last)",
      "Cell \u001b[1;32mIn[7], line 3\u001b[0m\n\u001b[0;32m      1\u001b[0m \u001b[39mimport\u001b[39;00m \u001b[39mdatetime\u001b[39;00m\n\u001b[0;32m      2\u001b[0m dt \u001b[39m=\u001b[39m datetime\u001b[39m.\u001b[39mdatetime\u001b[39m.\u001b[39mnow()\n\u001b[1;32m----> 3\u001b[0m time_summary_dict[dt\u001b[39m.\u001b[39mstrftime(\u001b[39m'\u001b[39m\u001b[39m%\u001b[39m\u001b[39mY-\u001b[39m\u001b[39m%\u001b[39m\u001b[39mm-\u001b[39m\u001b[39m%d\u001b[39;00m\u001b[39m \u001b[39m\u001b[39m%\u001b[39m\u001b[39mH:\u001b[39m\u001b[39m%\u001b[39m\u001b[39mM:\u001b[39m\u001b[39m%\u001b[39m\u001b[39mS\u001b[39m\u001b[39m'\u001b[39m)]\u001b[39m=\u001b[39m{\u001b[39m\"\u001b[39m\u001b[39mvalue\u001b[39m\u001b[39m\"\u001b[39m: emotional_value_result_list, \u001b[39m\"\u001b[39m\u001b[39mrate\u001b[39m\u001b[39m\"\u001b[39m: emotional_rate_result_list}\n\u001b[0;32m      4\u001b[0m \u001b[39mprint\u001b[39m(time_summary_dict\u001b[39m.\u001b[39mkeys())\n",
      "\u001b[1;31mNameError\u001b[0m: name 'emotional_value_result_list' is not defined"
     ]
    }
   ],
   "source": [
    "import datetime\n",
    "dt = datetime.datetime.now()\n",
    "time_summary_dict[dt.strftime('%Y-%m-%d %H:%M:%S')]={\"value\": emotional_value_result_list, \"rate\": emotional_rate_result_list}\n",
    "print(time_summary_dict.keys())"
   ]
  },
  {
   "cell_type": "code",
   "execution_count": 6,
   "metadata": {},
   "outputs": [],
   "source": [
    "time_summary_dict={'2023-07-08 16:42:47': {'value': [{'name': 'Ctime_summary_dictALM', 'value': 28}, {'name': 'HAPPY', 'value': 2}, {'name': 'SAD', 'value': 4}, {'name': None, 'value': 1}, {'name': 'DISGUSTED', 'value': 1}, {'name': 'ANGRY', 'value': 1}, {'name': 'CONFUSED', 'value': 1}, {'name': 'SURPRISED', 'value': 1}], 'rate': [{'name': 'CALM', 'value': 71.7948717948718}, {'name': 'HAPPY', 'value': 5.128205128205128}, {'name': 'SAD', 'value': 10.256410256410255}, {'name': None, 'value': 2.564102564102564}, {'name': 'DISGUSTED', 'value': 2.564102564102564}, {'name': 'ANGRY', 'value': 2.564102564102564}, {'name': 'CONFUSED', 'value': 2.564102564102564}, {'name': 'SURPRISED', 'value': 2.564102564102564}]}, '2023-07-08 16:42:50': {'value': [{'name': 'CALM', 'value': 28}, {'name': 'HAPPY', 'value': 2}, {'name': 'SAD', 'value': 4}, {'name': None, 'value': 1}, {'name': 'DISGUSTED', 'value': 1}, {'name': 'ANGRY', 'value': 1}, {'name': 'CONFUSED', 'value': 1}, {'name': 'SURPRISED', 'value': 1}], 'rate': [{'name': 'CALM', 'value': 71.7948717948718}, {'name': 'HAPPY', 'value': 5.128205128205128}, {'name': 'SAD', 'value': 10.256410256410255}, {'name': None, 'value': 2.564102564102564}, {'name': 'DISGUSTED', 'value': 2.564102564102564}, {'name': 'ANGRY', 'value': 2.564102564102564}, {'name': 'CONFUSED', 'value': 2.564102564102564}, {'name': 'SURPRISED', 'value': 2.564102564102564}]}, '2023-07-08 16:42:53': {'value': [{'name': 'CALM', 'value': 28}, {'name': 'HAPPY', 'value': 2}, {'name': 'SAD', 'value': 4}, {'name': None, 'value': 1}, {'name': 'DISGUSTED', 'value': 1}, {'name': 'ANGRY', 'value': 1}, {'name': 'CONFUSED', 'value': 1}, {'name': 'SURPRISED', 'value': 1}], 'rate': [{'name': 'CALM', 'value': 71.7948717948718}, {'name': 'HAPPY', 'value': 5.128205128205128}, {'name': 'SAD', 'value': 10.256410256410255}, {'name': None, 'value': 2.564102564102564}, {'name': 'DISGUSTED', 'value': 2.564102564102564}, {'name': 'ANGRY', 'value': 2.564102564102564}, {'name': 'CONFUSED', 'value': 2.564102564102564}, {'name': 'SURPRISED', 'value': 2.564102564102564}]}, '2023-07-08 16:43:01': {'value': [{'name': 'CALM', 'value': 28}, {'name': 'HAPPY', 'value': 2}, {'name': 'SAD', 'value': 4}, {'name': None, 'value': 1}, {'name': 'DISGUSTED', 'value': 1}, {'name': 'ANGRY', 'value': 1}, {'name': 'CONFUSED', 'value': 1}, {'name': 'SURPRISED', 'value': 1}], 'rate': [{'name': 'CALM', 'value': 71.7948717948718}, {'name': 'HAPPY', 'value': 5.128205128205128}, {'name': 'SAD', 'value': 10.256410256410255}, {'name': None, 'value': 2.564102564102564}, {'name': 'DISGUSTED', 'value': 2.564102564102564}, {'name': 'ANGRY', 'value': 2.564102564102564}, {'name': 'CONFUSED', 'value': 2.564102564102564}, {'name': 'SURPRISED', 'value': 2.564102564102564}]}, '2023-07-08 16:43:03': {'value': [{'name': 'CALM', 'value': 28}, {'name': 'HAPPY', 'value': 2}, {'name': 'SAD', 'value': 4}, {'name': None, 'value': 1}, {'name': 'DISGUSTED', 'value': 1}, {'name': 'ANGRY', 'value': 1}, {'name': 'CONFUSED', 'value': 1}, {'name': 'SURPRISED', 'value': 1}], 'rate': [{'name': 'CALM', 'value': 71.7948717948718}, {'name': 'HAPPY', 'value': 5.128205128205128}, {'name': 'SAD', 'value': 10.256410256410255}, {'name': None, 'value': 2.564102564102564}, {'name': 'DISGUSTED', 'value': 2.564102564102564}, {'name': 'ANGRY', 'value': 2.564102564102564}, {'name': 'CONFUSED', 'value': 2.564102564102564}, {'name': 'SURPRISED', 'value': 2.564102564102564}]}, '2023-07-08 16:43:06': {'value': [{'name': 'CALM', 'value': 28}, {'name': 'HAPPY', 'value': 2}, {'name': 'SAD', 'value': 4}, {'name': None, 'value': 1}, {'name': 'DISGUSTED', 'value': 1}, {'name': 'ANGRY', 'value': 1}, {'name': 'CONFUSED', 'value': 1}, {'name': 'SURPRISED', 'value': 1}], 'rate': [{'name': 'CALM', 'value': 71.7948717948718}, {'name': 'HAPPY', 'value': 5.128205128205128}, {'name': 'SAD', 'value': 10.256410256410255}, {'name': None, 'value': 2.564102564102564}, {'name': 'DISGUSTED', 'value': 2.564102564102564}, {'name': 'ANGRY', 'value': 2.564102564102564}, {'name': 'CONFUSED', 'value': 2.564102564102564}, {'name': 'SURPRISED', 'value': 2.564102564102564}]}, '2023-07-08 16:43:09': {'value': [{'name': 'CALM', 'value': 28}, {'name': 'HAPPY', 'value': 2}, {'name': 'SAD', 'value': 4}, {'name': None, 'value': 1}, {'name': 'DISGUSTED', 'value': 1}, {'name': 'ANGRY', 'value': 1}, {'name': 'CONFUSED', 'value': 1}, {'name': 'SURPRISED', 'value': 1}], 'rate': [{'name': 'CALM', 'value': 71.7948717948718}, {'name': 'HAPPY', 'value': 5.128205128205128}, {'name': 'SAD', 'value': 10.256410256410255}, {'name': None, 'value': 2.564102564102564}, {'name': 'DISGUSTED', 'value': 2.564102564102564}, {'name': 'ANGRY', 'value': 2.564102564102564}, {'name': 'CONFUSED', 'value': 2.564102564102564}, {'name': 'SURPRISED', 'value': 2.564102564102564}]}}"
   ]
  },
  {
   "cell_type": "code",
   "execution_count": 7,
   "metadata": {},
   "outputs": [],
   "source": [
    "time_summary_dict_origin = time_summary_dict.copy()"
   ]
  },
  {
   "cell_type": "code",
   "execution_count": 8,
   "metadata": {},
   "outputs": [],
   "source": [
    "# 同じ時間の二番目以降の要素を削除\n",
    "for time in time_summary_dict:\n",
    "    if len(time_summary_dict[time]['value']) > 1:\n",
    "        time_summary_dict[time]['value'] = time_summary_dict[time]['value'][:1]\n",
    "    if len(time_summary_dict[time]['rate']) > 1:\n",
    "        time_summary_dict[time]['rate'] = time_summary_dict[time]['rate'][:1]"
   ]
  },
  {
   "cell_type": "code",
   "execution_count": 9,
   "metadata": {},
   "outputs": [
    {
     "name": "stdout",
     "output_type": "stream",
     "text": [
      "2023-07-08 16:42:47\n",
      "{'value': [{'name': 'Ctime_summary_dictALM', 'value': 28}], 'rate': [{'name': 'CALM', 'value': 71.7948717948718}]}\n",
      "2023-07-08 16:42:50\n",
      "{'value': [{'name': 'CALM', 'value': 28}], 'rate': [{'name': 'CALM', 'value': 71.7948717948718}]}\n",
      "2023-07-08 16:42:53\n",
      "{'value': [{'name': 'CALM', 'value': 28}], 'rate': [{'name': 'CALM', 'value': 71.7948717948718}]}\n",
      "2023-07-08 16:43:01\n",
      "{'value': [{'name': 'CALM', 'value': 28}], 'rate': [{'name': 'CALM', 'value': 71.7948717948718}]}\n",
      "2023-07-08 16:43:03\n",
      "{'value': [{'name': 'CALM', 'value': 28}], 'rate': [{'name': 'CALM', 'value': 71.7948717948718}]}\n",
      "2023-07-08 16:43:06\n",
      "{'value': [{'name': 'CALM', 'value': 28}], 'rate': [{'name': 'CALM', 'value': 71.7948717948718}]}\n",
      "2023-07-08 16:43:09\n",
      "{'value': [{'name': 'CALM', 'value': 28}], 'rate': [{'name': 'CALM', 'value': 71.7948717948718}]}\n"
     ]
    }
   ],
   "source": [
    "import plotly.graph_objects as go\n",
    "\n",
    "# プロット用のデータを格納するリストを作成\n",
    "data = []\n",
    "\n",
    "x = []\n",
    "y = []\n",
    "\n",
    "\n",
    "# タイムスタンプごとにループ\n",
    "for timestamp, values in time_summary_dict.items():\n",
    "    print(timestamp)\n",
    "    print(values)\n",
    "    # valueのリストを走査してxとyの値を抽出\n",
    "    for item in values['value']:\n",
    "        name = item['name']\n",
    "        value = item['value']\n",
    "        if name is not None:\n",
    "            x.append(timestamp)\n",
    "            y.append(value)"
   ]
  },
  {
   "cell_type": "code",
   "execution_count": 10,
   "metadata": {},
   "outputs": [
    {
     "data": {
      "text/plain": [
       "['2023-07-08 16:42:47',\n",
       " '2023-07-08 16:42:50',\n",
       " '2023-07-08 16:42:53',\n",
       " '2023-07-08 16:43:01',\n",
       " '2023-07-08 16:43:03',\n",
       " '2023-07-08 16:43:06',\n",
       " '2023-07-08 16:43:09']"
      ]
     },
     "execution_count": 10,
     "metadata": {},
     "output_type": "execute_result"
    }
   ],
   "source": [
    "x"
   ]
  },
  {
   "cell_type": "code",
   "execution_count": 11,
   "metadata": {},
   "outputs": [
    {
     "data": {
      "text/plain": [
       "[28, 28, 28, 28, 28, 28, 28]"
      ]
     },
     "execution_count": 11,
     "metadata": {},
     "output_type": "execute_result"
    }
   ],
   "source": [
    "y"
   ]
  },
  {
   "cell_type": "code",
   "execution_count": 49,
   "metadata": {},
   "outputs": [
    {
     "name": "stdout",
     "output_type": "stream",
     "text": [
      "['2023-07-08 16:42:47']\n",
      "{'name': 'Ctime_summary_dictALM', 'value': 28}\n",
      "{'name': 'HAPPY', 'value': 2}\n",
      "{'name': 'SAD', 'value': 4}\n",
      "{'name': None, 'value': 1}\n",
      "{'name': 'DISGUSTED', 'value': 1}\n",
      "{'name': 'ANGRY', 'value': 1}\n",
      "{'name': 'CONFUSED', 'value': 1}\n",
      "{'name': 'SURPRISED', 'value': 1}\n",
      "['2023-07-08 16:42:47', '2023-07-08 16:42:50']\n",
      "{'name': 'CALM', 'value': 28}\n",
      "{'name': 'HAPPY', 'value': 2}\n",
      "{'name': 'SAD', 'value': 4}\n",
      "{'name': None, 'value': 1}\n",
      "{'name': 'DISGUSTED', 'value': 1}\n",
      "{'name': 'ANGRY', 'value': 1}\n",
      "{'name': 'CONFUSED', 'value': 1}\n",
      "{'name': 'SURPRISED', 'value': 1}\n",
      "['2023-07-08 16:42:47', '2023-07-08 16:42:50', '2023-07-08 16:42:53']\n",
      "{'name': 'CALM', 'value': 28}\n",
      "{'name': 'HAPPY', 'value': 2}\n",
      "{'name': 'SAD', 'value': 4}\n",
      "{'name': None, 'value': 1}\n",
      "{'name': 'DISGUSTED', 'value': 1}\n",
      "{'name': 'ANGRY', 'value': 1}\n",
      "{'name': 'CONFUSED', 'value': 1}\n",
      "{'name': 'SURPRISED', 'value': 1}\n",
      "['2023-07-08 16:42:47', '2023-07-08 16:42:50', '2023-07-08 16:42:53', '2023-07-08 16:43:01']\n",
      "{'name': 'CALM', 'value': 28}\n",
      "{'name': 'HAPPY', 'value': 2}\n",
      "{'name': 'SAD', 'value': 4}\n",
      "{'name': None, 'value': 1}\n",
      "{'name': 'DISGUSTED', 'value': 1}\n",
      "{'name': 'ANGRY', 'value': 1}\n",
      "{'name': 'CONFUSED', 'value': 1}\n",
      "{'name': 'SURPRISED', 'value': 1}\n",
      "['2023-07-08 16:42:47', '2023-07-08 16:42:50', '2023-07-08 16:42:53', '2023-07-08 16:43:01', '2023-07-08 16:43:03']\n",
      "{'name': 'CALM', 'value': 28}\n",
      "{'name': 'HAPPY', 'value': 2}\n",
      "{'name': 'SAD', 'value': 4}\n",
      "{'name': None, 'value': 1}\n",
      "{'name': 'DISGUSTED', 'value': 1}\n",
      "{'name': 'ANGRY', 'value': 1}\n",
      "{'name': 'CONFUSED', 'value': 1}\n",
      "{'name': 'SURPRISED', 'value': 1}\n",
      "['2023-07-08 16:42:47', '2023-07-08 16:42:50', '2023-07-08 16:42:53', '2023-07-08 16:43:01', '2023-07-08 16:43:03', '2023-07-08 16:43:06']\n",
      "{'name': 'CALM', 'value': 28}\n",
      "{'name': 'HAPPY', 'value': 2}\n",
      "{'name': 'SAD', 'value': 4}\n",
      "{'name': None, 'value': 1}\n",
      "{'name': 'DISGUSTED', 'value': 1}\n",
      "{'name': 'ANGRY', 'value': 1}\n",
      "{'name': 'CONFUSED', 'value': 1}\n",
      "{'name': 'SURPRISED', 'value': 1}\n",
      "['2023-07-08 16:42:47', '2023-07-08 16:42:50', '2023-07-08 16:42:53', '2023-07-08 16:43:01', '2023-07-08 16:43:03', '2023-07-08 16:43:06', '2023-07-08 16:43:09']\n",
      "{'name': 'CALM', 'value': 28}\n",
      "{'name': 'HAPPY', 'value': 2}\n",
      "{'name': 'SAD', 'value': 4}\n",
      "{'name': None, 'value': 1}\n",
      "{'name': 'DISGUSTED', 'value': 1}\n",
      "{'name': 'ANGRY', 'value': 1}\n",
      "{'name': 'CONFUSED', 'value': 1}\n",
      "{'name': 'SURPRISED', 'value': 1}\n",
      "Ctime_summary_dictALM\n"
     ]
    }
   ],
   "source": [
    "import plotly.graph_objects as go\n",
    "\n",
    "time_summary_dict={'2023-07-08 16:42:47': {'value': [{'name': 'Ctime_summary_dictALM', 'value': 28}, {'name': 'HAPPY', 'value': 2}, {'name': 'SAD', 'value': 4}, {'name': None, 'value': 1}, {'name': 'DISGUSTED', 'value': 1}, {'name': 'ANGRY', 'value': 1}, {'name': 'CONFUSED', 'value': 1}, {'name': 'SURPRISED', 'value': 1}], 'rate': [{'name': 'CALM', 'value': 71.7948717948718}, {'name': 'HAPPY', 'value': 5.128205128205128}, {'name': 'SAD', 'value': 10.256410256410255}, {'name': None, 'value': 2.564102564102564}, {'name': 'DISGUSTED', 'value': 2.564102564102564}, {'name': 'ANGRY', 'value': 2.564102564102564}, {'name': 'CONFUSED', 'value': 2.564102564102564}, {'name': 'SURPRISED', 'value': 2.564102564102564}]}, '2023-07-08 16:42:50': {'value': [{'name': 'CALM', 'value': 28}, {'name': 'HAPPY', 'value': 2}, {'name': 'SAD', 'value': 4}, {'name': None, 'value': 1}, {'name': 'DISGUSTED', 'value': 1}, {'name': 'ANGRY', 'value': 1}, {'name': 'CONFUSED', 'value': 1}, {'name': 'SURPRISED', 'value': 1}], 'rate': [{'name': 'CALM', 'value': 71.7948717948718}, {'name': 'HAPPY', 'value': 5.128205128205128}, {'name': 'SAD', 'value': 10.256410256410255}, {'name': None, 'value': 2.564102564102564}, {'name': 'DISGUSTED', 'value': 2.564102564102564}, {'name': 'ANGRY', 'value': 2.564102564102564}, {'name': 'CONFUSED', 'value': 2.564102564102564}, {'name': 'SURPRISED', 'value': 2.564102564102564}]}, '2023-07-08 16:42:53': {'value': [{'name': 'CALM', 'value': 28}, {'name': 'HAPPY', 'value': 2}, {'name': 'SAD', 'value': 4}, {'name': None, 'value': 1}, {'name': 'DISGUSTED', 'value': 1}, {'name': 'ANGRY', 'value': 1}, {'name': 'CONFUSED', 'value': 1}, {'name': 'SURPRISED', 'value': 1}], 'rate': [{'name': 'CALM', 'value': 71.7948717948718}, {'name': 'HAPPY', 'value': 5.128205128205128}, {'name': 'SAD', 'value': 10.256410256410255}, {'name': None, 'value': 2.564102564102564}, {'name': 'DISGUSTED', 'value': 2.564102564102564}, {'name': 'ANGRY', 'value': 2.564102564102564}, {'name': 'CONFUSED', 'value': 2.564102564102564}, {'name': 'SURPRISED', 'value': 2.564102564102564}]}, '2023-07-08 16:43:01': {'value': [{'name': 'CALM', 'value': 28}, {'name': 'HAPPY', 'value': 2}, {'name': 'SAD', 'value': 4}, {'name': None, 'value': 1}, {'name': 'DISGUSTED', 'value': 1}, {'name': 'ANGRY', 'value': 1}, {'name': 'CONFUSED', 'value': 1}, {'name': 'SURPRISED', 'value': 1}], 'rate': [{'name': 'CALM', 'value': 71.7948717948718}, {'name': 'HAPPY', 'value': 5.128205128205128}, {'name': 'SAD', 'value': 10.256410256410255}, {'name': None, 'value': 2.564102564102564}, {'name': 'DISGUSTED', 'value': 2.564102564102564}, {'name': 'ANGRY', 'value': 2.564102564102564}, {'name': 'CONFUSED', 'value': 2.564102564102564}, {'name': 'SURPRISED', 'value': 2.564102564102564}]}, '2023-07-08 16:43:03': {'value': [{'name': 'CALM', 'value': 28}, {'name': 'HAPPY', 'value': 2}, {'name': 'SAD', 'value': 4}, {'name': None, 'value': 1}, {'name': 'DISGUSTED', 'value': 1}, {'name': 'ANGRY', 'value': 1}, {'name': 'CONFUSED', 'value': 1}, {'name': 'SURPRISED', 'value': 1}], 'rate': [{'name': 'CALM', 'value': 71.7948717948718}, {'name': 'HAPPY', 'value': 5.128205128205128}, {'name': 'SAD', 'value': 10.256410256410255}, {'name': None, 'value': 2.564102564102564}, {'name': 'DISGUSTED', 'value': 2.564102564102564}, {'name': 'ANGRY', 'value': 2.564102564102564}, {'name': 'CONFUSED', 'value': 2.564102564102564}, {'name': 'SURPRISED', 'value': 2.564102564102564}]}, '2023-07-08 16:43:06': {'value': [{'name': 'CALM', 'value': 28}, {'name': 'HAPPY', 'value': 2}, {'name': 'SAD', 'value': 4}, {'name': None, 'value': 1}, {'name': 'DISGUSTED', 'value': 1}, {'name': 'ANGRY', 'value': 1}, {'name': 'CONFUSED', 'value': 1}, {'name': 'SURPRISED', 'value': 1}], 'rate': [{'name': 'CALM', 'value': 71.7948717948718}, {'name': 'HAPPY', 'value': 5.128205128205128}, {'name': 'SAD', 'value': 10.256410256410255}, {'name': None, 'value': 2.564102564102564}, {'name': 'DISGUSTED', 'value': 2.564102564102564}, {'name': 'ANGRY', 'value': 2.564102564102564}, {'name': 'CONFUSED', 'value': 2.564102564102564}, {'name': 'SURPRISED', 'value': 2.564102564102564}]}, '2023-07-08 16:43:09': {'value': [{'name': 'CALM', 'value': 28}, {'name': 'HAPPY', 'value': 2}, {'name': 'SAD', 'value': 4}, {'name': None, 'value': 1}, {'name': 'DISGUSTED', 'value': 1}, {'name': 'ANGRY', 'value': 1}, {'name': 'CONFUSED', 'value': 1}, {'name': 'SURPRISED', 'value': 1}], 'rate': [{'name': 'CALM', 'value': 71.7948717948718}, {'name': 'HAPPY', 'value': 5.128205128205128}, {'name': 'SAD', 'value': 10.256410256410255}, {'name': None, 'value': 2.564102564102564}, {'name': 'DISGUSTED', 'value': 2.564102564102564}, {'name': 'ANGRY', 'value': 2.564102564102564}, {'name': 'CONFUSED', 'value': 2.564102564102564}, {'name': 'SURPRISED', 'value': 2.564102564102564}]}}\n",
    "# 同じ時間の二番目以降の要素を削除\n",
    "\"\"\"\n",
    "for time in time_summary_dict:\n",
    "    if len(time_summary_dict[time]['value']) > 1:\n",
    "        time_summary_dict[time]['value'] = time_summary_dict[time]['value'][:1]\n",
    "    if len(time_summary_dict[time]['rate']) > 1:\n",
    "        time_summary_dict[time]['rate'] = time_summary_dict[time]['rate'][:1]\n",
    "\"\"\"\n",
    "# プロット用のデータを格納するリストを作成\n",
    "data = []\n",
    "\n",
    "x = []\n",
    "y = {}\n",
    "\n",
    "\n",
    "# タイムスタンプごとにループ\n",
    "for timestamp in time_summary_dict.keys():\n",
    "    x.append(timestamp)\n",
    "    print(x)\n",
    "    for item in time_summary_dict[timestamp]['value']:\n",
    "        print(item)\n",
    "        name = item['name']\n",
    "        value = item['value']\n",
    "        if name is not None:\n",
    "            try:\n",
    "                y[name].append(value)\n",
    "            except:\n",
    "                y[name] = []\n",
    "                y[name].append(value)\n",
    "\n",
    "for name in y.keys():\n",
    "    print(name)\n",
    "    fig = go.Figure()\n",
    "    fig.add_trace(go.Scatter(x=x,\n",
    "                    y=y[name],\n",
    "                    mode='markers',\n",
    "                    opacity=0.5,\n",
    "                    showlegend=False,\n",
    "                    visible=True,\n",
    "                    name=name))\n",
    "\n",
    "    fig.add_trace(go.Scatter(x=x,\n",
    "                    y=y[name],\n",
    "                    mode='lines',\n",
    "                    showlegend=False,\n",
    "                    visible=True,\n",
    "                    name=name))\n",
    "\n",
    "    fig.write_image(name+\".png\")"
   ]
  },
  {
   "cell_type": "code",
   "execution_count": 27,
   "metadata": {},
   "outputs": [
    {
     "name": "stderr",
     "output_type": "stream",
     "text": [
      "C:\\Users\\banti\\AppData\\Local\\Temp\\ipykernel_51536\\1582511719.py:59: MatplotlibDeprecationWarning: The seaborn styles shipped by Matplotlib are deprecated since 3.6, as they no longer correspond to the styles shipped by seaborn. However, they will remain available as 'seaborn-v0_8-<style>'. Alternatively, directly use the seaborn API instead.\n",
      "  plt.style.use('seaborn-whitegrid')\n"
     ]
    },
    {
     "data": {
      "image/png": "[encoded data removed]",
      "text/plain": [
       "<Figure size 900x500 with 1 Axes>"
      ]
     },
     "metadata": {},
     "output_type": "display_data"
    }
   ],
   "source": [
    "import matplotlib.pyplot as plt\n",
    "\n",
    "emotion_list=[\"HAPPY\",\"SURPRISED\",\"CONFUSED\",\"ANGRY\",\"DISGUSTED\",\"CALM\",\"FEAR\",\"SAD\"]\n",
    "time_summary_dict={'2023-07-08 16:42:47': {'value': [{'name': 'Ctime_summary_dictALM', 'value': 28}, {'name': 'HAPPY', 'value': 2}, {'name': 'SAD', 'value': 4}, {'name': None, 'value': 1}, {'name': 'DISGUSTED', 'value': 1}, {'name': 'ANGRY', 'value': 1}, {'name': 'CONFUSED', 'value': 1}, {'name': 'SURPRISED', 'value': 1}], 'rate': [{'name': 'CALM', 'value': 71.7948717948718}, {'name': 'HAPPY', 'value': 5.128205128205128}, {'name': 'SAD', 'value': 10.256410256410255}, {'name': None, 'value': 2.564102564102564}, {'name': 'DISGUSTED', 'value': 2.564102564102564}, {'name': 'ANGRY', 'value': 2.564102564102564}, {'name': 'CONFUSED', 'value': 2.564102564102564}, {'name': 'SURPRISED', 'value': 2.564102564102564}]}, '2023-07-08 16:42:50': {'value': [{'name': 'CALM', 'value': 28}, {'name': 'HAPPY', 'value': 2}, {'name': 'SAD', 'value': 4}, {'name': None, 'value': 1}, {'name': 'DISGUSTED', 'value': 1}, {'name': 'ANGRY', 'value': 1}, {'name': 'CONFUSED', 'value': 1}, {'name': 'SURPRISED', 'value': 1}], 'rate': [{'name': 'CALM', 'value': 71.7948717948718}, {'name': 'HAPPY', 'value': 5.128205128205128}, {'name': 'SAD', 'value': 10.256410256410255}, {'name': None, 'value': 2.564102564102564}, {'name': 'DISGUSTED', 'value': 2.564102564102564}, {'name': 'ANGRY', 'value': 2.564102564102564}, {'name': 'CONFUSED', 'value': 2.564102564102564}, {'name': 'SURPRISED', 'value': 2.564102564102564}]}, '2023-07-08 16:42:53': {'value': [{'name': 'CALM', 'value': 28}, {'name': 'HAPPY', 'value': 2}, {'name': 'SAD', 'value': 4}, {'name': None, 'value': 1}, {'name': 'DISGUSTED', 'value': 1}, {'name': 'ANGRY', 'value': 1}, {'name': 'CONFUSED', 'value': 1}, {'name': 'SURPRISED', 'value': 1}], 'rate': [{'name': 'CALM', 'value': 71.7948717948718}, {'name': 'HAPPY', 'value': 5.128205128205128}, {'name': 'SAD', 'value': 10.256410256410255}, {'name': None, 'value': 2.564102564102564}, {'name': 'DISGUSTED', 'value': 2.564102564102564}, {'name': 'ANGRY', 'value': 2.564102564102564}, {'name': 'CONFUSED', 'value': 2.564102564102564}, {'name': 'SURPRISED', 'value': 2.564102564102564}]}, '2023-07-08 16:43:01': {'value': [{'name': 'CALM', 'value': 28}, {'name': 'HAPPY', 'value': 2}, {'name': 'SAD', 'value': 4}, {'name': None, 'value': 1}, {'name': 'DISGUSTED', 'value': 1}, {'name': 'ANGRY', 'value': 1}, {'name': 'CONFUSED', 'value': 1}, {'name': 'SURPRISED', 'value': 1}], 'rate': [{'name': 'CALM', 'value': 71.7948717948718}, {'name': 'HAPPY', 'value': 5.128205128205128}, {'name': 'SAD', 'value': 10.256410256410255}, {'name': None, 'value': 2.564102564102564}, {'name': 'DISGUSTED', 'value': 2.564102564102564}, {'name': 'ANGRY', 'value': 2.564102564102564}, {'name': 'CONFUSED', 'value': 2.564102564102564}, {'name': 'SURPRISED', 'value': 2.564102564102564}]}, '2023-07-08 16:43:03': {'value': [{'name': 'CALM', 'value': 28}, {'name': 'HAPPY', 'value': 2}, {'name': 'SAD', 'value': 4}, {'name': None, 'value': 1}, {'name': 'DISGUSTED', 'value': 1}, {'name': 'ANGRY', 'value': 1}, {'name': 'CONFUSED', 'value': 1}, {'name': 'SURPRISED', 'value': 1}], 'rate': [{'name': 'CALM', 'value': 71.7948717948718}, {'name': 'HAPPY', 'value': 5.128205128205128}, {'name': 'SAD', 'value': 10.256410256410255}, {'name': None, 'value': 2.564102564102564}, {'name': 'DISGUSTED', 'value': 2.564102564102564}, {'name': 'ANGRY', 'value': 2.564102564102564}, {'name': 'CONFUSED', 'value': 2.564102564102564}, {'name': 'SURPRISED', 'value': 2.564102564102564}]}, '2023-07-08 16:43:06': {'value': [{'name': 'CALM', 'value': 28}, {'name': 'HAPPY', 'value': 2}, {'name': 'SAD', 'value': 4}, {'name': None, 'value': 1}, {'name': 'DISGUSTED', 'value': 1}, {'name': 'ANGRY', 'value': 1}, {'name': 'CONFUSED', 'value': 1}, {'name': 'SURPRISED', 'value': 1}], 'rate': [{'name': 'CALM', 'value': 71.7948717948718}, {'name': 'HAPPY', 'value': 5.128205128205128}, {'name': 'SAD', 'value': 10.256410256410255}, {'name': None, 'value': 2.564102564102564}, {'name': 'DISGUSTED', 'value': 2.564102564102564}, {'name': 'ANGRY', 'value': 2.564102564102564}, {'name': 'CONFUSED', 'value': 2.564102564102564}, {'name': 'SURPRISED', 'value': 2.564102564102564}]}, '2023-07-08 16:43:09': {'value': [{'name': 'CALM', 'value': 28}, {'name': 'HAPPY', 'value': 2}, {'name': 'SAD', 'value': 4}, {'name': None, 'value': 1}, {'name': 'DISGUSTED', 'value': 1}, {'name': 'ANGRY', 'value': 1}, {'name': 'CONFUSED', 'value': 1}, {'name': 'SURPRISED', 'value': 1}], 'rate': [{'name': 'CALM', 'value': 71.7948717948718}, {'name': 'HAPPY', 'value': 5.128205128205128}, {'name': 'SAD', 'value': 10.256410256410255}, {'name': None, 'value': 2.564102564102564}, {'name': 'DISGUSTED', 'value': 2.564102564102564}, {'name': 'ANGRY', 'value': 2.564102564102564}, {'name': 'CONFUSED', 'value': 2.564102564102564}, {'name': 'SURPRISED', 'value': 2.564102564102564}]}}\n",
    "\n",
    "x = []\n",
    "y = {}\n",
    "for emotion in emotion_list:\n",
    "    y[emotion] = []\n",
    "# タイムスタンプごとにループ\n",
    "for timestamp in time_summary_dict.keys():\n",
    "    x.append(timestamp)\n",
    "    for emotion in emotion_list:\n",
    "        flag = False\n",
    "        # print(x)\n",
    "        for item in time_summary_dict[timestamp]['value']:\n",
    "            if item[\"name\"] == emotion:\n",
    "                y[emotion].append(item[\"value\"])\n",
    "                flag=True\n",
    "        if flag == False:\n",
    "            y[emotion].append(0)\n",
    "\n",
    "import matplotlib.pyplot as plt\n",
    "import matplotlib.dates as mdates\n",
    "\n",
    "# Data\n",
    "x = [\n",
    "    '2023-07-08 16:42:47',\n",
    "    '2023-07-08 16:42:50',\n",
    "    '2023-07-08 16:42:53',\n",
    "    '2023-07-08 16:43:01',\n",
    "    '2023-07-08 16:43:03',\n",
    "    '2023-07-08 16:43:06',\n",
    "    '2023-07-08 16:43:09'\n",
    "]\n",
    "\n",
    "y = {\n",
    "    'HAPPY': [2, 2, 2, 2, 2, 2, 2],\n",
    "    'SURPRISED': [1, 1, 1, 1, 1, 1, 1],\n",
    "    'CONFUSED': [1, 1, 1, 1, 1, 1, 1],\n",
    "    'ANGRY': [1, 1, 1, 1, 1, 1, 1],\n",
    "    'DISGUSTED': [1, 1, 1, 1, 1, 1, 1],\n",
    "    'CALM': [0, 28, 28, 28, 28, 28, 28],\n",
    "    'FEAR': [0, 0, 0, 0, 0, 0, 0],\n",
    "    'SAD': [4, 4, 4, 4, 4, 4, 4]\n",
    "}\n",
    "\n",
    "name = \"CALM\"\n",
    "\n",
    "# Convert x-axis values to datetime objects\n",
    "x_datetime = [mdates.datetime.datetime.strptime(date, \"%Y-%m-%d %H:%M:%S\") for date in x]\n",
    "\n",
    "# Set color scheme\n",
    "text_color = '#fcfffb'\n",
    "background_color = '#242424'\n",
    "primary_color = '#df929b'\n",
    "\n",
    "# Set plot style\n",
    "plt.style.use('seaborn-whitegrid')\n",
    "\n",
    "# Set figure and axes properties\n",
    "fig, ax = plt.subplots(figsize=(9, 5))\n",
    "fig.patch.set_facecolor(background_color)\n",
    "ax.set_facecolor(background_color)\n",
    "ax.spines[['top', 'right']].set_visible(False)\n",
    "\n",
    "# Plotting\n",
    "for i, (name, values) in enumerate(y.items()):\n",
    "    color = plt.cm.tab10(i)  # Get color from default colormap\n",
    "    ax.plot(x_datetime, values, label=name, color=color, linestyle='-', marker='o', markersize=5)\n",
    "\n",
    "# Set plot title\n",
    "# ax.set_title('Emotion Value Over Time', fontsize=16, fontweight='bold', color=text_color)\n",
    "\n",
    "# Set x-axis and y-axis labels\n",
    "ax.set_xlabel('Time', fontsize=12, color=text_color)\n",
    "ax.set_ylabel('回数', fontsize=12, color=text_color)\n",
    "\n",
    "# Format x-axis as dates\n",
    "ax.xaxis.set_major_formatter(mdates.DateFormatter('%Y-%m-%d %H:%M:%S'))\n",
    "ax.tick_params(axis='both', rotation=45, labelsize=10, colors=text_color)\n",
    "\n",
    "# Add grid lines\n",
    "ax.grid(True, linestyle='--', linewidth=0.5, alpha=0.7)\n",
    "\n",
    "# Add legend\n",
    "ax.legend(fontsize=12, facecolor=background_color, edgecolor=background_color, labelcolor=text_color, framealpha=0.7)\n",
    "\n",
    "# Adjust layout\n",
    "fig.tight_layout()\n",
    "\n",
    "# Set text color and background color\n",
    "plt.rcParams['text.color'] = text_color\n",
    "plt.rcParams['figure.facecolor'] = background_color\n",
    "\n",
    "# Show plot\n",
    "plt.show()"
   ]
  },
  {
   "cell_type": "code",
   "execution_count": 11,
   "metadata": {},
   "outputs": [
    {
     "data": {
      "text/plain": [
       "(['2023-07-08 16:42:47',\n",
       "  '2023-07-08 16:42:50',\n",
       "  '2023-07-08 16:42:53',\n",
       "  '2023-07-08 16:43:01',\n",
       "  '2023-07-08 16:43:03',\n",
       "  '2023-07-08 16:43:06',\n",
       "  '2023-07-08 16:43:09'],\n",
       " {'HAPPY': [2, 2, 2, 2, 2, 2, 2],\n",
       "  'SURPRISED': [1, 1, 1, 1, 1, 1, 1],\n",
       "  'CONFUSED': [1, 1, 1, 1, 1, 1, 1],\n",
       "  'ANGRY': [1, 1, 1, 1, 1, 1, 1],\n",
       "  'DISGUSTED': [1, 1, 1, 1, 1, 1, 1],\n",
       "  'CALM': [0, 28, 28, 28, 28, 28, 28],\n",
       "  'FEAR': [0, 0, 0, 0, 0, 0, 0],\n",
       "  'SAD': [4, 4, 4, 4, 4, 4, 4]})"
      ]
     },
     "execution_count": 11,
     "metadata": {},
     "output_type": "execute_result"
    }
   ],
   "source": [
    "x,y"
   ]
  },
  {
   "cell_type": "code",
   "execution_count": 13,
   "metadata": {},
   "outputs": [
    {
     "data": {
      "image/png": "[encoded data removed]",
      "text/plain": [
       "<Figure size 1000x600 with 1 Axes>"
      ]
     },
     "metadata": {},
     "output_type": "display_data"
    }
   ],
   "source": [
    "import matplotlib.pyplot as plt\n",
    "import matplotlib.dates as mdates\n",
    "\"\"\"\n",
    "x = [\n",
    "    '2023-07-08 16:42:47',\n",
    "    '2023-07-08 16:42:50',\n",
    "    '2023-07-08 16:42:53',\n",
    "    '2023-07-08 16:43:01',\n",
    "    '2023-07-08 16:43:03',\n",
    "    '2023-07-08 16:43:06',\n",
    "    '2023-07-08 16:43:09'\n",
    "]\n",
    "\n",
    "y = {\n",
    "    'HAPPY': [2, 2, 2, 2, 2, 2, 2],\n",
    "    'SURPRISED': [1, 1, 1, 1, 1, 1, 1],\n",
    "    'CONFUSED': [1, 1, 1, 1, 1, 1, 1],\n",
    "    'ANGRY': [1, 1, 1, 1, 1, 1, 1],\n",
    "    'DISGUSTED': [1, 1, 1, 1, 1, 1, 1],\n",
    "    'CALM': [0, 28, 28, 28, 28, 28, 28],\n",
    "    'FEAR': [0, 0, 0, 0, 0, 0, 0],\n",
    "    'SAD': [4, 4, 4, 4, 4, 4, 4]\n",
    "}\n",
    "\"\"\"\n",
    "name = \"CALM\"\n",
    "\n",
    "# Convert x-axis values to datetime objects\n",
    "x_datetime = [mdates.datetime.datetime.strptime(date, \"%Y-%m-%d %H:%M:%S\") for date in x]\n",
    "\n",
    "# Set figure size\n",
    "fig, ax = plt.subplots(figsize=(10, 6))\n",
    "\n",
    "# Plotting\n",
    "ax.plot(x_datetime, y[name], label=name, color='blue', linestyle='-', marker='o', markersize=5)\n",
    "\n",
    "# Set plot title\n",
    "plt.title('Emotion Value Over Time')\n",
    "\n",
    "# Set x-axis and y-axis labels\n",
    "plt.xlabel('Time')\n",
    "plt.ylabel('Value')\n",
    "\n",
    "# Format x-axis as dates\n",
    "ax.xaxis.set_major_formatter(mdates.DateFormatter('%Y-%m-%d %H:%M:%S'))\n",
    "plt.gcf().autofmt_xdate()  # Auto-rotate x-axis labels for better visibility\n",
    "\n",
    "# Add grid lines\n",
    "plt.grid(True, linestyle='--', linewidth=0.5, alpha=0.7)\n",
    "\n",
    "# Add legend\n",
    "plt.legend()\n",
    "\n",
    "# Remove top and right spines\n",
    "ax.spines['top'].set_visible(False)\n",
    "ax.spines['right'].set_visible(False)\n",
    "\n",
    "# Show plot\n",
    "plt.tight_layout()\n",
    "plt.show()\n",
    "# Save the figure\n",
    "#plt.savefig('assets/'+name+'.png')"
   ]
  },
  {
   "cell_type": "code",
   "execution_count": 14,
   "metadata": {},
   "outputs": [
    {
     "name": "stderr",
     "output_type": "stream",
     "text": [
      "C:\\Users\\banti\\AppData\\Local\\Temp\\ipykernel_51536\\2188925614.py:31: MatplotlibDeprecationWarning: The seaborn styles shipped by Matplotlib are deprecated since 3.6, as they no longer correspond to the styles shipped by seaborn. However, they will remain available as 'seaborn-v0_8-<style>'. Alternatively, directly use the seaborn API instead.\n",
      "  plt.style.use('seaborn-whitegrid')\n"
     ]
    },
    {
     "data": {
      "image/png": "[encoded data removed]",
      "text/plain": [
       "<Figure size 1000x600 with 1 Axes>"
      ]
     },
     "metadata": {},
     "output_type": "display_data"
    }
   ],
   "source": [
    "import matplotlib.pyplot as plt\n",
    "import matplotlib.dates as mdates\n",
    "\"\"\"\n",
    "x = [\n",
    "    '2023-07-08 16:42:47',\n",
    "    '2023-07-08 16:42:50',\n",
    "    '2023-07-08 16:42:53',\n",
    "    '2023-07-08 16:43:01',\n",
    "    '2023-07-08 16:43:03',\n",
    "    '2023-07-08 16:43:06',\n",
    "    '2023-07-08 16:43:09'\n",
    "]\n",
    "\n",
    "y = {\n",
    "    'HAPPY': [2, 2, 2, 2, 2, 2, 2],\n",
    "    'SURPRISED': [1, 1, 1, 1, 1, 1, 1],\n",
    "    'CONFUSED': [1, 1, 1, 1, 1, 1, 1],\n",
    "    'ANGRY': [1, 1, 1, 1, 1, 1, 1],\n",
    "    'DISGUSTED': [1, 1, 1, 1, 1, 1, 1],\n",
    "    'CALM': [0, 28, 28, 28, 28, 28, 28],\n",
    "    'FEAR': [0, 0, 0, 0, 0, 0, 0],\n",
    "    'SAD': [4, 4, 4, 4, 4, 4, 4]\n",
    "}\n",
    "\"\"\"\n",
    "name = \"CALM\"\n",
    "\n",
    "# Convert x-axis values to datetime objects\n",
    "x_datetime = [mdates.datetime.datetime.strptime(date, \"%Y-%m-%d %H:%M:%S\") for date in x]\n",
    "\n",
    "# Set plot style\n",
    "plt.style.use('seaborn-whitegrid')\n",
    "\n",
    "# Create figure and axes\n",
    "fig, ax = plt.subplots(figsize=(10, 6))\n",
    "\n",
    "# Plotting\n",
    "ax.plot(x_datetime, y[name], label=name, color='blue', linestyle='-', marker='o', markersize=5)\n",
    "\n",
    "# Set plot title\n",
    "ax.set_title('Emotion Value Over Time', fontsize=14, fontweight='bold')\n",
    "\n",
    "# Set x-axis and y-axis labels\n",
    "ax.set_xlabel('Time', fontsize=12)\n",
    "ax.set_ylabel('Value', fontsize=12)\n",
    "\n",
    "# Format x-axis as dates\n",
    "ax.xaxis.set_major_formatter(mdates.DateFormatter('%Y-%m-%d %H:%M:%S'))\n",
    "ax.tick_params(axis='x', rotation=45, labelsize=10)\n",
    "\n",
    "# Add grid lines\n",
    "ax.grid(True, linestyle='--', linewidth=0.5, alpha=0.7)\n",
    "\n",
    "# Add legend\n",
    "ax.legend(fontsize=10)\n",
    "\n",
    "# Remove top and right spines\n",
    "ax.spines['top'].set_visible(False)\n",
    "ax.spines['right'].set_visible(False)\n",
    "\n",
    "# Adjust layout\n",
    "fig.tight_layout()\n",
    "\n",
    "# Show plot\n",
    "plt.show()"
   ]
  },
  {
   "cell_type": "markdown",
   "metadata": {},
   "source": []
  },
  {
   "cell_type": "code",
   "execution_count": 25,
   "metadata": {},
   "outputs": [
    {
     "name": "stderr",
     "output_type": "stream",
     "text": [
      "C:\\Users\\banti\\AppData\\Local\\Temp\\ipykernel_51536\\3586583351.py:37: MatplotlibDeprecationWarning: The seaborn styles shipped by Matplotlib are deprecated since 3.6, as they no longer correspond to the styles shipped by seaborn. However, they will remain available as 'seaborn-v0_8-<style>'. Alternatively, directly use the seaborn API instead.\n",
      "  plt.style.use('seaborn-whitegrid')\n"
     ]
    },
    {
     "data": {
      "image/png": "[encoded data removed]",
      "text/plain": [
       "<Figure size 1000x600 with 1 Axes>"
      ]
     },
     "metadata": {},
     "output_type": "display_data"
    }
   ],
   "source": [
    "import matplotlib.pyplot as plt\n",
    "import matplotlib.dates as mdates\n",
    "\n",
    "# Data\n",
    "x = [\n",
    "    '2023-07-08 16:42:47',\n",
    "    '2023-07-08 16:42:50',\n",
    "    '2023-07-08 16:42:53',\n",
    "    '2023-07-08 16:43:01',\n",
    "    '2023-07-08 16:43:03',\n",
    "    '2023-07-08 16:43:06',\n",
    "    '2023-07-08 16:43:09'\n",
    "]\n",
    "\n",
    "y = {\n",
    "    'HAPPY': [2, 2, 2, 2, 2, 2, 2],\n",
    "    'SURPRISED': [1, 1, 1, 1, 1, 1, 1],\n",
    "    'CONFUSED': [1, 1, 1, 1, 1, 1, 1],\n",
    "    'ANGRY': [1, 1, 1, 1, 1, 1, 1],\n",
    "    'DISGUSTED': [1, 1, 1, 1, 1, 1, 1],\n",
    "    'CALM': [0, 28, 28, 28, 28, 28, 28],\n",
    "    'FEAR': [0, 0, 0, 0, 0, 0, 0],\n",
    "    'SAD': [4, 4, 4, 4, 4, 4, 4]\n",
    "}\n",
    "\n",
    "name = \"CALM\"\n",
    "\n",
    "# Convert x-axis values to datetime objects\n",
    "x_datetime = [mdates.datetime.datetime.strptime(date, \"%Y-%m-%d %H:%M:%S\") for date in x]\n",
    "\n",
    "# Set color scheme\n",
    "text_color = '#fcfffb'\n",
    "background_color = '#242424'\n",
    "primary_color = '#df929b'\n",
    "\n",
    "# Set plot style\n",
    "plt.style.use('seaborn-whitegrid')\n",
    "\n",
    "# Set figure and axes properties\n",
    "fig, ax = plt.subplots(figsize=(10, 6))\n",
    "fig.patch.set_facecolor(background_color)\n",
    "ax.set_facecolor(background_color)\n",
    "ax.spines[['top', 'right']].set_visible(False)\n",
    "\n",
    "# Plotting\n",
    "for i, (name, values) in enumerate(y.items()):\n",
    "    color = plt.cm.tab10(i)  # Get color from default colormap\n",
    "    ax.plot(x_datetime, values, label=name, color=color, linestyle='-', marker='o', markersize=5)\n",
    "\n",
    "# Set plot title\n",
    "# ax.set_title('Emotion Value Over Time', fontsize=16, fontweight='bold', color=text_color)\n",
    "\n",
    "# Set x-axis and y-axis labels\n",
    "ax.set_xlabel('Time', fontsize=12, color=text_color)\n",
    "ax.set_ylabel('Value', fontsize=12, color=text_color)\n",
    "\n",
    "# Format x-axis as dates\n",
    "ax.xaxis.set_major_formatter(mdates.DateFormatter('%Y-%m-%d %H:%M:%S'))\n",
    "ax.tick_params(axis='both', rotation=45, labelsize=10, colors=text_color)\n",
    "\n",
    "# Add grid lines\n",
    "ax.grid(True, linestyle='--', linewidth=0.5, alpha=0.7)\n",
    "\n",
    "# Add legend\n",
    "ax.legend(fontsize=12, facecolor=background_color, edgecolor=background_color, labelcolor=text_color, framealpha=0.7)\n",
    "\n",
    "# Adjust layout\n",
    "fig.tight_layout()\n",
    "\n",
    "# Set text color and background color\n",
    "plt.rcParams['text.color'] = text_color\n",
    "plt.rcParams['figure.facecolor'] = background_color\n",
    "\n",
    "# Show plot\n",
    "plt.show()"
   ]
  },
  {
   "cell_type": "code",
   "execution_count": null,
   "metadata": {},
   "outputs": [
    {
     "data": {
      "text/plain": [
       "['2023-07-08 16:42:47',\n",
       " '2023-07-08 16:42:50',\n",
       " '2023-07-08 16:42:53',\n",
       " '2023-07-08 16:43:01',\n",
       " '2023-07-08 16:43:03',\n",
       " '2023-07-08 16:43:06',\n",
       " '2023-07-08 16:43:09']"
      ]
     },
     "execution_count": 45,
     "metadata": {},
     "output_type": "execute_result"
    }
   ],
   "source": [
    "x"
   ]
  },
  {
   "cell_type": "code",
   "execution_count": null,
   "metadata": {},
   "outputs": [
    {
     "data": {
      "text/plain": [
       "{'HAPPY': [2, 2, 2, 2, 2, 2, 2],\n",
       " 'SAD': [4, 4, 4, 4, 4, 4, 4],\n",
       " 'DISGUSTED': [1, 1, 1, 1, 1, 1, 1],\n",
       " 'ANGRY': [1, 1, 1, 1, 1, 1, 1],\n",
       " 'CONFUSED': [1, 1, 1, 1, 1, 1, 1],\n",
       " 'SURPRISED': [1, 1, 1, 1, 1, 1, 1],\n",
       " 'CALM': [28, 28, 28, 28, 28, 28]}"
      ]
     },
     "execution_count": 46,
     "metadata": {},
     "output_type": "execute_result"
    }
   ],
   "source": [
    "y"
   ]
  },
  {
   "cell_type": "code",
   "execution_count": 47,
   "metadata": {},
   "outputs": [
    {
     "ename": "ValueError",
     "evalue": "x and y must have same first dimension, but have shapes (7,) and (6,)",
     "output_type": "error",
     "traceback": [
      "\u001b[1;31m---------------------------------------------------------------------------\u001b[0m",
      "\u001b[1;31mValueError\u001b[0m                                Traceback (most recent call last)",
      "Cell \u001b[1;32mIn[47], line 4\u001b[0m\n\u001b[0;32m      2\u001b[0m \u001b[39m# Plotting the data\u001b[39;00m\n\u001b[0;32m      3\u001b[0m \u001b[39mfor\u001b[39;00m key, values \u001b[39min\u001b[39;00m y\u001b[39m.\u001b[39mitems():\n\u001b[1;32m----> 4\u001b[0m     plt\u001b[39m.\u001b[39;49mplot(x, values, label\u001b[39m=\u001b[39;49mkey)\n\u001b[0;32m      6\u001b[0m \u001b[39m# Adding labels and title to the plot\u001b[39;00m\n\u001b[0;32m      7\u001b[0m plt\u001b[39m.\u001b[39mxlabel(\u001b[39m'\u001b[39m\u001b[39mTimestamp\u001b[39m\u001b[39m'\u001b[39m)\n",
      "File \u001b[1;32mh:\\KDDI\\Project1\\REmetor-Backend-Host\\myenv\\Lib\\site-packages\\matplotlib\\pyplot.py:2812\u001b[0m, in \u001b[0;36mplot\u001b[1;34m(scalex, scaley, data, *args, **kwargs)\u001b[0m\n\u001b[0;32m   2810\u001b[0m \u001b[39m@_copy_docstring_and_deprecators\u001b[39m(Axes\u001b[39m.\u001b[39mplot)\n\u001b[0;32m   2811\u001b[0m \u001b[39mdef\u001b[39;00m \u001b[39mplot\u001b[39m(\u001b[39m*\u001b[39margs, scalex\u001b[39m=\u001b[39m\u001b[39mTrue\u001b[39;00m, scaley\u001b[39m=\u001b[39m\u001b[39mTrue\u001b[39;00m, data\u001b[39m=\u001b[39m\u001b[39mNone\u001b[39;00m, \u001b[39m*\u001b[39m\u001b[39m*\u001b[39mkwargs):\n\u001b[1;32m-> 2812\u001b[0m     \u001b[39mreturn\u001b[39;00m gca()\u001b[39m.\u001b[39;49mplot(\n\u001b[0;32m   2813\u001b[0m         \u001b[39m*\u001b[39;49margs, scalex\u001b[39m=\u001b[39;49mscalex, scaley\u001b[39m=\u001b[39;49mscaley,\n\u001b[0;32m   2814\u001b[0m         \u001b[39m*\u001b[39;49m\u001b[39m*\u001b[39;49m({\u001b[39m\"\u001b[39;49m\u001b[39mdata\u001b[39;49m\u001b[39m\"\u001b[39;49m: data} \u001b[39mif\u001b[39;49;00m data \u001b[39mis\u001b[39;49;00m \u001b[39mnot\u001b[39;49;00m \u001b[39mNone\u001b[39;49;00m \u001b[39melse\u001b[39;49;00m {}), \u001b[39m*\u001b[39;49m\u001b[39m*\u001b[39;49mkwargs)\n",
      "File \u001b[1;32mh:\\KDDI\\Project1\\REmetor-Backend-Host\\myenv\\Lib\\site-packages\\matplotlib\\axes\\_axes.py:1688\u001b[0m, in \u001b[0;36mAxes.plot\u001b[1;34m(self, scalex, scaley, data, *args, **kwargs)\u001b[0m\n\u001b[0;32m   1445\u001b[0m \u001b[39m\u001b[39m\u001b[39m\"\"\"\u001b[39;00m\n\u001b[0;32m   1446\u001b[0m \u001b[39mPlot y versus x as lines and/or markers.\u001b[39;00m\n\u001b[0;32m   1447\u001b[0m \n\u001b[1;32m   (...)\u001b[0m\n\u001b[0;32m   1685\u001b[0m \u001b[39m(``'green'``) or hex strings (``'#008000'``).\u001b[39;00m\n\u001b[0;32m   1686\u001b[0m \u001b[39m\"\"\"\u001b[39;00m\n\u001b[0;32m   1687\u001b[0m kwargs \u001b[39m=\u001b[39m cbook\u001b[39m.\u001b[39mnormalize_kwargs(kwargs, mlines\u001b[39m.\u001b[39mLine2D)\n\u001b[1;32m-> 1688\u001b[0m lines \u001b[39m=\u001b[39m [\u001b[39m*\u001b[39m\u001b[39mself\u001b[39m\u001b[39m.\u001b[39m_get_lines(\u001b[39m*\u001b[39margs, data\u001b[39m=\u001b[39mdata, \u001b[39m*\u001b[39m\u001b[39m*\u001b[39mkwargs)]\n\u001b[0;32m   1689\u001b[0m \u001b[39mfor\u001b[39;00m line \u001b[39min\u001b[39;00m lines:\n\u001b[0;32m   1690\u001b[0m     \u001b[39mself\u001b[39m\u001b[39m.\u001b[39madd_line(line)\n",
      "File \u001b[1;32mh:\\KDDI\\Project1\\REmetor-Backend-Host\\myenv\\Lib\\site-packages\\matplotlib\\axes\\_base.py:311\u001b[0m, in \u001b[0;36m_process_plot_var_args.__call__\u001b[1;34m(self, data, *args, **kwargs)\u001b[0m\n\u001b[0;32m    309\u001b[0m     this \u001b[39m+\u001b[39m\u001b[39m=\u001b[39m args[\u001b[39m0\u001b[39m],\n\u001b[0;32m    310\u001b[0m     args \u001b[39m=\u001b[39m args[\u001b[39m1\u001b[39m:]\n\u001b[1;32m--> 311\u001b[0m \u001b[39myield from\u001b[39;00m \u001b[39mself\u001b[39;49m\u001b[39m.\u001b[39;49m_plot_args(\n\u001b[0;32m    312\u001b[0m     this, kwargs, ambiguous_fmt_datakey\u001b[39m=\u001b[39;49mambiguous_fmt_datakey)\n",
      "File \u001b[1;32mh:\\KDDI\\Project1\\REmetor-Backend-Host\\myenv\\Lib\\site-packages\\matplotlib\\axes\\_base.py:504\u001b[0m, in \u001b[0;36m_process_plot_var_args._plot_args\u001b[1;34m(self, tup, kwargs, return_kwargs, ambiguous_fmt_datakey)\u001b[0m\n\u001b[0;32m    501\u001b[0m     \u001b[39mself\u001b[39m\u001b[39m.\u001b[39maxes\u001b[39m.\u001b[39myaxis\u001b[39m.\u001b[39mupdate_units(y)\n\u001b[0;32m    503\u001b[0m \u001b[39mif\u001b[39;00m x\u001b[39m.\u001b[39mshape[\u001b[39m0\u001b[39m] \u001b[39m!=\u001b[39m y\u001b[39m.\u001b[39mshape[\u001b[39m0\u001b[39m]:\n\u001b[1;32m--> 504\u001b[0m     \u001b[39mraise\u001b[39;00m \u001b[39mValueError\u001b[39;00m(\u001b[39mf\u001b[39m\u001b[39m\"\u001b[39m\u001b[39mx and y must have same first dimension, but \u001b[39m\u001b[39m\"\u001b[39m\n\u001b[0;32m    505\u001b[0m                      \u001b[39mf\u001b[39m\u001b[39m\"\u001b[39m\u001b[39mhave shapes \u001b[39m\u001b[39m{\u001b[39;00mx\u001b[39m.\u001b[39mshape\u001b[39m}\u001b[39;00m\u001b[39m and \u001b[39m\u001b[39m{\u001b[39;00my\u001b[39m.\u001b[39mshape\u001b[39m}\u001b[39;00m\u001b[39m\"\u001b[39m)\n\u001b[0;32m    506\u001b[0m \u001b[39mif\u001b[39;00m x\u001b[39m.\u001b[39mndim \u001b[39m>\u001b[39m \u001b[39m2\u001b[39m \u001b[39mor\u001b[39;00m y\u001b[39m.\u001b[39mndim \u001b[39m>\u001b[39m \u001b[39m2\u001b[39m:\n\u001b[0;32m    507\u001b[0m     \u001b[39mraise\u001b[39;00m \u001b[39mValueError\u001b[39;00m(\u001b[39mf\u001b[39m\u001b[39m\"\u001b[39m\u001b[39mx and y can be no greater than 2D, but have \u001b[39m\u001b[39m\"\u001b[39m\n\u001b[0;32m    508\u001b[0m                      \u001b[39mf\u001b[39m\u001b[39m\"\u001b[39m\u001b[39mshapes \u001b[39m\u001b[39m{\u001b[39;00mx\u001b[39m.\u001b[39mshape\u001b[39m}\u001b[39;00m\u001b[39m and \u001b[39m\u001b[39m{\u001b[39;00my\u001b[39m.\u001b[39mshape\u001b[39m}\u001b[39;00m\u001b[39m\"\u001b[39m)\n",
      "\u001b[1;31mValueError\u001b[0m: x and y must have same first dimension, but have shapes (7,) and (6,)"
     ]
    },
    {
     "data": {
      "image/png": "[encoded data removed]",
      "text/plain": [
       "<Figure size 640x480 with 1 Axes>"
      ]
     },
     "metadata": {},
     "output_type": "display_data"
    }
   ],
   "source": []
  },
  {
   "cell_type": "code",
   "execution_count": 15,
   "metadata": {},
   "outputs": [
    {
     "data": {
      "application/vnd.plotly.v1+json": {
       "config": {
        "plotlyServerURL": "https://plot.ly"
       },
       "data": [
        {
         "mode": "markers",
         "name": "Emotion",
         "opacity": 0.5,
         "showlegend": false,
         "type": "scatter",
         "visible": true,
         "x": [
          "2023-07-08 16:42:47",
          "2023-07-08 16:42:50",
          "2023-07-08 16:42:53",
          "2023-07-08 16:43:01",
          "2023-07-08 16:43:03",
          "2023-07-08 16:43:06",
          "2023-07-08 16:43:09"
         ],
         "y": [
          28,
          28,
          28,
          28,
          28,
          28,
          28
         ]
        },
        {
         "mode": "lines",
         "name": "Emotion",
         "showlegend": false,
         "type": "scatter",
         "visible": true,
         "x": [
          "2023-07-08 16:42:47",
          "2023-07-08 16:42:50",
          "2023-07-08 16:42:53",
          "2023-07-08 16:43:01",
          "2023-07-08 16:43:03",
          "2023-07-08 16:43:06",
          "2023-07-08 16:43:09"
         ],
         "y": [
          28,
          28,
          28,
          28,
          28,
          28,
          28
         ]
        }
       ],
       "layout": {
        "barmode": "group",
        "height": 500,
        "legend": {
         "orientation": "h",
         "x": 0.95,
         "xanchor": "right",
         "y": 1.03,
         "yanchor": "bottom"
        },
        "template": {
         "data": {
          "bar": [
           {
            "error_x": {
             "color": "#2a3f5f"
            },
            "error_y": {
             "color": "#2a3f5f"
            },
            "marker": {
             "line": {
              "color": "#E5ECF6",
              "width": 0.5
             },
             "pattern": {
              "fillmode": "overlay",
              "size": 10,
              "solidity": 0.2
             }
            },
            "type": "bar"
           }
          ],
          "barpolar": [
           {
            "marker": {
             "line": {
              "color": "#E5ECF6",
              "width": 0.5
             },
             "pattern": {
              "fillmode": "overlay",
              "size": 10,
              "solidity": 0.2
             }
            },
            "type": "barpolar"
           }
          ],
          "carpet": [
           {
            "aaxis": {
             "endlinecolor": "#2a3f5f",
             "gridcolor": "white",
             "linecolor": "white",
             "minorgridcolor": "white",
             "startlinecolor": "#2a3f5f"
            },
            "baxis": {
             "endlinecolor": "#2a3f5f",
             "gridcolor": "white",
             "linecolor": "white",
             "minorgridcolor": "white",
             "startlinecolor": "#2a3f5f"
            },
            "type": "carpet"
           }
          ],
          "choropleth": [
           {
            "colorbar": {
             "outlinewidth": 0,
             "ticks": ""
            },
            "type": "choropleth"
           }
          ],
          "contour": [
           {
            "colorbar": {
             "outlinewidth": 0,
             "ticks": ""
            },
            "colorscale": [
             [
              0,
              "#0d0887"
             ],
             [
              0.1111111111111111,
              "#46039f"
             ],
             [
              0.2222222222222222,
              "#7201a8"
             ],
             [
              0.3333333333333333,
              "#9c179e"
             ],
             [
              0.4444444444444444,
              "#bd3786"
             ],
             [
              0.5555555555555556,
              "#d8576b"
             ],
             [
              0.6666666666666666,
              "#ed7953"
             ],
             [
              0.7777777777777778,
              "#fb9f3a"
             ],
             [
              0.8888888888888888,
              "#fdca26"
             ],
             [
              1,
              "#f0f921"
             ]
            ],
            "type": "contour"
           }
          ],
          "contourcarpet": [
           {
            "colorbar": {
             "outlinewidth": 0,
             "ticks": ""
            },
            "type": "contourcarpet"
           }
          ],
          "heatmap": [
           {
            "colorbar": {
             "outlinewidth": 0,
             "ticks": ""
            },
            "colorscale": [
             [
              0,
              "#0d0887"
             ],
             [
              0.1111111111111111,
              "#46039f"
             ],
             [
              0.2222222222222222,
              "#7201a8"
             ],
             [
              0.3333333333333333,
              "#9c179e"
             ],
             [
              0.4444444444444444,
              "#bd3786"
             ],
             [
              0.5555555555555556,
              "#d8576b"
             ],
             [
              0.6666666666666666,
              "#ed7953"
             ],
             [
              0.7777777777777778,
              "#fb9f3a"
             ],
             [
              0.8888888888888888,
              "#fdca26"
             ],
             [
              1,
              "#f0f921"
             ]
            ],
            "type": "heatmap"
           }
          ],
          "heatmapgl": [
           {
            "colorbar": {
             "outlinewidth": 0,
             "ticks": ""
            },
            "colorscale": [
             [
              0,
              "#0d0887"
             ],
             [
              0.1111111111111111,
              "#46039f"
             ],
             [
              0.2222222222222222,
              "#7201a8"
             ],
             [
              0.3333333333333333,
              "#9c179e"
             ],
             [
              0.4444444444444444,
              "#bd3786"
             ],
             [
              0.5555555555555556,
              "#d8576b"
             ],
             [
              0.6666666666666666,
              "#ed7953"
             ],
             [
              0.7777777777777778,
              "#fb9f3a"
             ],
             [
              0.8888888888888888,
              "#fdca26"
             ],
             [
              1,
              "#f0f921"
             ]
            ],
            "type": "heatmapgl"
           }
          ],
          "histogram": [
           {
            "marker": {
             "pattern": {
              "fillmode": "overlay",
              "size": 10,
              "solidity": 0.2
             }
            },
            "type": "histogram"
           }
          ],
          "histogram2d": [
           {
            "colorbar": {
             "outlinewidth": 0,
             "ticks": ""
            },
            "colorscale": [
             [
              0,
              "#0d0887"
             ],
             [
              0.1111111111111111,
              "#46039f"
             ],
             [
              0.2222222222222222,
              "#7201a8"
             ],
             [
              0.3333333333333333,
              "#9c179e"
             ],
             [
              0.4444444444444444,
              "#bd3786"
             ],
             [
              0.5555555555555556,
              "#d8576b"
             ],
             [
              0.6666666666666666,
              "#ed7953"
             ],
             [
              0.7777777777777778,
              "#fb9f3a"
             ],
             [
              0.8888888888888888,
              "#fdca26"
             ],
             [
              1,
              "#f0f921"
             ]
            ],
            "type": "histogram2d"
           }
          ],
          "histogram2dcontour": [
           {
            "colorbar": {
             "outlinewidth": 0,
             "ticks": ""
            },
            "colorscale": [
             [
              0,
              "#0d0887"
             ],
             [
              0.1111111111111111,
              "#46039f"
             ],
             [
              0.2222222222222222,
              "#7201a8"
             ],
             [
              0.3333333333333333,
              "#9c179e"
             ],
             [
              0.4444444444444444,
              "#bd3786"
             ],
             [
              0.5555555555555556,
              "#d8576b"
             ],
             [
              0.6666666666666666,
              "#ed7953"
             ],
             [
              0.7777777777777778,
              "#fb9f3a"
             ],
             [
              0.8888888888888888,
              "#fdca26"
             ],
             [
              1,
              "#f0f921"
             ]
            ],
            "type": "histogram2dcontour"
           }
          ],
          "mesh3d": [
           {
            "colorbar": {
             "outlinewidth": 0,
             "ticks": ""
            },
            "type": "mesh3d"
           }
          ],
          "parcoords": [
           {
            "line": {
             "colorbar": {
              "outlinewidth": 0,
              "ticks": ""
             }
            },
            "type": "parcoords"
           }
          ],
          "pie": [
           {
            "automargin": true,
            "type": "pie"
           }
          ],
          "scatter": [
           {
            "fillpattern": {
             "fillmode": "overlay",
             "size": 10,
             "solidity": 0.2
            },
            "type": "scatter"
           }
          ],
          "scatter3d": [
           {
            "line": {
             "colorbar": {
              "outlinewidth": 0,
              "ticks": ""
             }
            },
            "marker": {
             "colorbar": {
              "outlinewidth": 0,
              "ticks": ""
             }
            },
            "type": "scatter3d"
           }
          ],
          "scattercarpet": [
           {
            "marker": {
             "colorbar": {
              "outlinewidth": 0,
              "ticks": ""
             }
            },
            "type": "scattercarpet"
           }
          ],
          "scattergeo": [
           {
            "marker": {
             "colorbar": {
              "outlinewidth": 0,
              "ticks": ""
             }
            },
            "type": "scattergeo"
           }
          ],
          "scattergl": [
           {
            "marker": {
             "colorbar": {
              "outlinewidth": 0,
              "ticks": ""
             }
            },
            "type": "scattergl"
           }
          ],
          "scattermapbox": [
           {
            "marker": {
             "colorbar": {
              "outlinewidth": 0,
              "ticks": ""
             }
            },
            "type": "scattermapbox"
           }
          ],
          "scatterpolar": [
           {
            "marker": {
             "colorbar": {
              "outlinewidth": 0,
              "ticks": ""
             }
            },
            "type": "scatterpolar"
           }
          ],
          "scatterpolargl": [
           {
            "marker": {
             "colorbar": {
              "outlinewidth": 0,
              "ticks": ""
             }
            },
            "type": "scatterpolargl"
           }
          ],
          "scatterternary": [
           {
            "marker": {
             "colorbar": {
              "outlinewidth": 0,
              "ticks": ""
             }
            },
            "type": "scatterternary"
           }
          ],
          "surface": [
           {
            "colorbar": {
             "outlinewidth": 0,
             "ticks": ""
            },
            "colorscale": [
             [
              0,
              "#0d0887"
             ],
             [
              0.1111111111111111,
              "#46039f"
             ],
             [
              0.2222222222222222,
              "#7201a8"
             ],
             [
              0.3333333333333333,
              "#9c179e"
             ],
             [
              0.4444444444444444,
              "#bd3786"
             ],
             [
              0.5555555555555556,
              "#d8576b"
             ],
             [
              0.6666666666666666,
              "#ed7953"
             ],
             [
              0.7777777777777778,
              "#fb9f3a"
             ],
             [
              0.8888888888888888,
              "#fdca26"
             ],
             [
              1,
              "#f0f921"
             ]
            ],
            "type": "surface"
           }
          ],
          "table": [
           {
            "cells": {
             "fill": {
              "color": "#EBF0F8"
             },
             "line": {
              "color": "white"
             }
            },
            "header": {
             "fill": {
              "color": "#C8D4E3"
             },
             "line": {
              "color": "white"
             }
            },
            "type": "table"
           }
          ]
         },
         "layout": {
          "font": {
           "family": "Franklin Gothic",
           "size": 12
          },
          "height": 500,
          "width": 1000
         }
        },
        "title": {
         "text": "Distributions of float features"
        },
        "width": 1000
       }
      }
     },
     "metadata": {},
     "output_type": "display_data"
    }
   ],
   "source": [
    "\n",
    "import plotly.express as px\n",
    "import plotly.graph_objects as go\n",
    "from plotly.subplots import make_subplots\n",
    "import plotly.figure_factory as ff\n",
    "\n",
    "fig = go.Figure()\n",
    "fig.add_trace(go.Scatter(x=x,\n",
    "                y=y,\n",
    "                mode='markers',\n",
    "                opacity=0.5,\n",
    "                showlegend=False,\n",
    "                visible=True,\n",
    "                name='Emotion'))\n",
    "\n",
    "fig.add_trace(go.Scatter(x=x,\n",
    "                y=y,\n",
    "                mode='lines',\n",
    "                showlegend=False,\n",
    "                visible=True,\n",
    "                name='Emotion'))\n",
    "\n",
    "temp=dict(layout=go.Layout(font=dict(family=\"Franklin Gothic\", size=12), height=500, width=1000))\n",
    "fig.update_layout(template=temp,title=\"Distributions of float features\",\n",
    "                    legend=dict(orientation=\"h\",yanchor=\"bottom\",y=1.03,xanchor=\"right\",x=.95),\n",
    "                    barmode='group',height=500,width=1000)\n",
    "fig.show()\n",
    "\n",
    "fig = px.choropleth(df, locations='iso_alpha', color='gdpPercap', animation_frame='year')\n",
    "fig.write_image(\"some.png\", engine=\"kaleido\", scale=1)\n"
   ]
  },
  {
   "cell_type": "code",
   "execution_count": 17,
   "metadata": {},
   "outputs": [
    {
     "name": "stdout",
     "output_type": "stream",
     "text": [
      "<class 'str'>\n"
     ]
    }
   ],
   "source": [
    "filepath = r'H:\\KDDI\\Project1\\REmetor-Backend-Host\\asset\\test.html'\n",
    "with open(filepath , encoding='utf-8') as f:\n",
    "    html = f.read()\n",
    "print(type(html))"
   ]
  },
  {
   "cell_type": "code",
   "execution_count": 29,
   "metadata": {},
   "outputs": [
    {
     "name": "stderr",
     "output_type": "stream",
     "text": [
      "\n",
      "[notice] A new release of pip available: 22.3 -> 23.1.2\n",
      "[notice] To update, run: python.exe -m pip install --upgrade pip\n"
     ]
    }
   ],
   "source": [
    "!pip install nbformat>=4.2.0"
   ]
  },
  {
   "cell_type": "code",
   "execution_count": 32,
   "metadata": {},
   "outputs": [
    {
     "name": "stdout",
     "output_type": "stream",
     "text": [
      "Python 3.11.0\n"
     ]
    }
   ],
   "source": [
    "!python -V"
   ]
  },
  {
   "cell_type": "code",
   "execution_count": 19,
   "metadata": {},
   "outputs": [
    {
     "ename": "FileNotFoundError",
     "evalue": "[Errno 2] No such file or directory: 'asset/test.html'",
     "output_type": "error",
     "traceback": [
      "\u001b[1;31m---------------------------------------------------------------------------\u001b[0m",
      "\u001b[1;31mFileNotFoundError\u001b[0m                         Traceback (most recent call last)",
      "Cell \u001b[1;32mIn[19], line 2\u001b[0m\n\u001b[0;32m      1\u001b[0m filepath \u001b[39m=\u001b[39m \u001b[39m'\u001b[39m\u001b[39masset/test.html\u001b[39m\u001b[39m'\u001b[39m\n\u001b[1;32m----> 2\u001b[0m \u001b[39mwith\u001b[39;00m \u001b[39mopen\u001b[39;49m(filepath , encoding\u001b[39m=\u001b[39;49m\u001b[39m'\u001b[39;49m\u001b[39mutf-8\u001b[39;49m\u001b[39m'\u001b[39;49m) \u001b[39mas\u001b[39;00m f:\n\u001b[0;32m      3\u001b[0m     html:\u001b[39mstr\u001b[39m \u001b[39m=\u001b[39m f\u001b[39m.\u001b[39mread()\n",
      "File \u001b[1;32mh:\\KDDI\\Project1\\REmetor-Backend-Host\\myenv\\Lib\\site-packages\\IPython\\core\\interactiveshell.py:284\u001b[0m, in \u001b[0;36m_modified_open\u001b[1;34m(file, *args, **kwargs)\u001b[0m\n\u001b[0;32m    277\u001b[0m \u001b[39mif\u001b[39;00m file \u001b[39min\u001b[39;00m {\u001b[39m0\u001b[39m, \u001b[39m1\u001b[39m, \u001b[39m2\u001b[39m}:\n\u001b[0;32m    278\u001b[0m     \u001b[39mraise\u001b[39;00m \u001b[39mValueError\u001b[39;00m(\n\u001b[0;32m    279\u001b[0m         \u001b[39mf\u001b[39m\u001b[39m\"\u001b[39m\u001b[39mIPython won\u001b[39m\u001b[39m'\u001b[39m\u001b[39mt let you open fd=\u001b[39m\u001b[39m{\u001b[39;00mfile\u001b[39m}\u001b[39;00m\u001b[39m by default \u001b[39m\u001b[39m\"\u001b[39m\n\u001b[0;32m    280\u001b[0m         \u001b[39m\"\u001b[39m\u001b[39mas it is likely to crash IPython. If you know what you are doing, \u001b[39m\u001b[39m\"\u001b[39m\n\u001b[0;32m    281\u001b[0m         \u001b[39m\"\u001b[39m\u001b[39myou can use builtins\u001b[39m\u001b[39m'\u001b[39m\u001b[39m open.\u001b[39m\u001b[39m\"\u001b[39m\n\u001b[0;32m    282\u001b[0m     )\n\u001b[1;32m--> 284\u001b[0m \u001b[39mreturn\u001b[39;00m io_open(file, \u001b[39m*\u001b[39;49margs, \u001b[39m*\u001b[39;49m\u001b[39m*\u001b[39;49mkwargs)\n",
      "\u001b[1;31mFileNotFoundError\u001b[0m: [Errno 2] No such file or directory: 'asset/test.html'"
     ]
    }
   ],
   "source": [
    "filepath = 'asset/test.html'\n",
    "with open(filepath , encoding='utf-8') as f:\n",
    "    html:str = f.read()"
   ]
  },
  {
   "cell_type": "code",
   "execution_count": null,
   "metadata": {},
   "outputs": [],
   "source": []
  }
 ],
 "metadata": {
  "kernelspec": {
   "display_name": "myenv",
   "language": "python",
   "name": "python3"
  },
  "language_info": {
   "codemirror_mode": {
    "name": "ipython",
    "version": 3
   },
   "file_extension": ".py",
   "mimetype": "text/x-python",
   "name": "python",
   "nbconvert_exporter": "python",
   "pygments_lexer": "ipython3",
   "version": "3.11.0"
  },
  "orig_nbformat": 4
 },
 "nbformat": 4,
 "nbformat_minor": 2
}
